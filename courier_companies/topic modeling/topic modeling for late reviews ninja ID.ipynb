{
 "cells": [
  {
   "cell_type": "code",
   "execution_count": 17,
   "id": "26e265a0",
   "metadata": {},
   "outputs": [
    {
     "name": "stderr",
     "output_type": "stream",
     "text": [
      "[nltk_data] Downloading package stopwords to\n",
      "[nltk_data]     /Users/shureenteh/nltk_data...\n",
      "[nltk_data]   Package stopwords is already up-to-date!\n"
     ]
    }
   ],
   "source": [
    "import pandas as pd\n",
    "import re \n",
    "\n",
    "# Gensim for topic modeling\n",
    "import gensim\n",
    "from gensim.utils import simple_preprocess\n",
    "from gensim import matutils, models\n",
    "import gensim.corpora as corpora\n",
    "from gensim.models import CoherenceModel\n",
    "\n",
    "# spacy for lemmatization\n",
    "import spacy\n",
    "import scipy.sparse\n",
    "\n",
    "# NLTK Stop words\n",
    "import nltk\n",
    "nltk.download('stopwords')\n",
    "from nltk.corpus import stopwords\n",
    "\n",
    "# Plotting tools\n",
    "import pyLDAvis\n",
    "import pyLDAvis.gensim_models  # don't skip this\n",
    "import matplotlib.pyplot as plt\n",
    "%matplotlib inline\n",
    "\n",
    "from sklearn.svm import LinearSVC\n",
    "from sklearn.metrics import confusion_matrix\n",
    "from sklearn.feature_extraction.text import CountVectorizer\n",
    "from sklearn.feature_extraction.text import TfidfTransformer\n",
    "from sklearn.feature_extraction.text import TfidfVectorizer"
   ]
  },
  {
   "cell_type": "code",
   "execution_count": 18,
   "id": "32335cbe",
   "metadata": {},
   "outputs": [],
   "source": [
    "df = pd.read_csv('Late_reviews_ninjaID copy.csv')"
   ]
  },
  {
   "cell_type": "code",
   "execution_count": 27,
   "id": "6c07d41c",
   "metadata": {},
   "outputs": [
    {
     "data": {
      "text/plain": [
       "[(0,\n",
       "  '0.036*\"long\" + 0.036*\"ninja\" + 0.032*\"time\" + 0.031*\"service\" + 0.025*\"package\" + 0.023*\"delivery\" + 0.016*\"express\" + 0.015*\"day\" + 0.014*\"courier\" + 0.013*\"slow\"'),\n",
       " (1,\n",
       "  '0.027*\"ninja\" + 0.025*\"use\" + 0.025*\"slow\" + 0.021*\"time\" + 0.020*\"package\" + 0.020*\"delivery\" + 0.019*\"long\" + 0.017*\"bad\" + 0.016*\"really\" + 0.015*\"expedition\"')]"
      ]
     },
     "execution_count": 27,
     "metadata": {},
     "output_type": "execute_result"
    }
   ],
   "source": [
    "# Convert to list\n",
    "data = df.values.tolist()\n",
    "data[:5]\n",
    "\n",
    "def sent_to_words(sentences):\n",
    "    for sentence in sentences:\n",
    "        yield(gensim.utils.simple_preprocess(str(sentence), deacc=True))  # deacc=True removes punctuations\n",
    "\n",
    "data_words = list(sent_to_words(data))\n",
    "\n",
    "# Create Dictionary\n",
    "id2word = corpora.Dictionary(data_words)\n",
    "\n",
    "# Create Corpus\n",
    "texts = data_words\n",
    "\n",
    "# Term Document Frequency\n",
    "corpus = [id2word.doc2bow(text) for text in texts]\n",
    "\n",
    "# Let's start with 2 topics.\n",
    "lda_model = models.LdaModel(corpus=corpus, id2word=id2word, num_topics=2, passes=10)\n",
    "lda_model.print_topics()"
   ]
  },
  {
   "cell_type": "code",
   "execution_count": 28,
   "id": "a64ae126",
   "metadata": {},
   "outputs": [
    {
     "data": {
      "text/plain": [
       "[(0,\n",
       "  '0.042*\"slow\" + 0.042*\"work\" + 0.042*\"customer\" + 0.042*\"complain\" + 0.002*\"time\" + 0.002*\"tlp\" + 0.002*\"pickup\" + 0.002*\"change\" + 0.002*\"pick\" + 0.002*\"xpress\"'),\n",
       " (1,\n",
       "  '0.048*\"time\" + 0.042*\"delivery\" + 0.041*\"ninja\" + 0.038*\"service\" + 0.029*\"long\" + 0.026*\"use\" + 0.025*\"package\" + 0.023*\"slow\" + 0.019*\"one\" + 0.016*\"bad\"'),\n",
       " (2,\n",
       "  '0.041*\"bad\" + 0.031*\"service\" + 0.021*\"late\" + 0.021*\"expedition\" + 0.021*\"star\" + 0.021*\"delivery\" + 0.021*\"failed\" + 0.021*\"slow\" + 0.021*\"want\" + 0.021*\"longest\"'),\n",
       " (3,\n",
       "  '0.038*\"long\" + 0.037*\"ninja\" + 0.035*\"package\" + 0.035*\"delivery\" + 0.021*\"like\" + 0.021*\"good\" + 0.021*\"service\" + 0.014*\"return\" + 0.014*\"lazada\" + 0.014*\"use\"'),\n",
       " (4,\n",
       "  '0.043*\"long\" + 0.036*\"package\" + 0.036*\"time\" + 0.029*\"use\" + 0.022*\"ninja\" + 0.022*\"arrived\" + 0.022*\"good\" + 0.022*\"day\" + 0.015*\"delivery\" + 0.015*\"took\"'),\n",
       " (5,\n",
       "  '0.033*\"long\" + 0.033*\"disappointed\" + 0.028*\"time\" + 0.022*\"courier\" + 0.022*\"delivery\" + 0.022*\"want\" + 0.020*\"really\" + 0.019*\"slow\" + 0.017*\"expedition\" + 0.017*\"crazy\"'),\n",
       " (6,\n",
       "  '0.065*\"ninja\" + 0.038*\"package\" + 0.030*\"slow\" + 0.029*\"took\" + 0.029*\"name\" + 0.025*\"arrive\" + 0.022*\"disappointing\" + 0.022*\"july\" + 0.019*\"long\" + 0.016*\"service\"'),\n",
       " (7,\n",
       "  '0.055*\"courier\" + 0.037*\"long\" + 0.037*\"ninja\" + 0.028*\"shopping\" + 0.028*\"using\" + 0.028*\"service\" + 0.028*\"many\" + 0.028*\"even\" + 0.026*\"day\" + 0.019*\"delivery\"'),\n",
       " (8,\n",
       "  '0.058*\"use\" + 0.042*\"slow\" + 0.036*\"package\" + 0.030*\"hasnt\" + 0.027*\"really\" + 0.027*\"stuff\" + 0.026*\"longer\" + 0.019*\"xpress\" + 0.018*\"day\" + 0.016*\"courier\"'),\n",
       " (9,\n",
       "  '0.050*\"expedition\" + 0.038*\"ninja\" + 0.038*\"time\" + 0.032*\"transit\" + 0.032*\"long\" + 0.026*\"star\" + 0.026*\"status\" + 0.026*\"express\" + 0.026*\"clear\" + 0.025*\"call\"')]"
      ]
     },
     "execution_count": 28,
     "metadata": {},
     "output_type": "execute_result"
    }
   ],
   "source": [
    "# Let's start with 10 topics. This may take a while.\n",
    "lda_model = models.LdaModel(corpus=corpus, id2word=id2word, num_topics=10, passes=10)\n",
    "lda_model.print_topics()"
   ]
  },
  {
   "cell_type": "code",
   "execution_count": 29,
   "id": "e17911a4",
   "metadata": {},
   "outputs": [
    {
     "name": "stdout",
     "output_type": "stream",
     "text": [
      "[['lazada', 'seller', 'lost', 'lot', 'ninja', 'delivery', 'service', 'trustworthy', 'long', 'hand', 'package', 'always', 'return', 'reason', 'clear', 'week', 'good', 'finally', 'return', 'good']]\n"
     ]
    }
   ],
   "source": [
    "def sent_to_words(sentences):\n",
    "    for sentence in sentences:\n",
    "        yield(gensim.utils.simple_preprocess(str(sentence), deacc=True))  # deacc=True removes punctuations\n",
    "\n",
    "data_words = list(sent_to_words(data))\n"
   ]
  },
  {
   "cell_type": "code",
   "execution_count": 30,
   "id": "38f672f7",
   "metadata": {},
   "outputs": [
    {
     "name": "stdout",
     "output_type": "stream",
     "text": [
      "[['lazada', 'seller', 'lost', 'lot', 'ninja', 'delivery', 'service', 'trustworthy', 'long', 'hand', 'package', 'always', 'return', 'reason', 'clear', 'week', 'good', 'finally', 'return', 'good']]\n"
     ]
    }
   ],
   "source": [
    "# Prepare stopwords using NLTK\n",
    "stop_words = stopwords.words('english')\n",
    "\n",
    "def remove_stopwords(texts):\n",
    "    return [[word for word in simple_preprocess(str(doc)) if word not in stop_words] for doc in texts]\n",
    "\n",
    "# Remove Stop Words\n",
    "data_words_nostops = remove_stopwords(data_words)\n"
   ]
  },
  {
   "cell_type": "code",
   "execution_count": 31,
   "id": "079511f0",
   "metadata": {},
   "outputs": [
    {
     "name": "stdout",
     "output_type": "stream",
     "text": [
      "['first', 'time', 'used', 'ninja', 'really', 'disappointed', 'wouldnt', 'use', 'another', 'delivery', 'service', 'longest', 'one', 'week', 'jakarta']\n"
     ]
    }
   ],
   "source": [
    "# Build the bigram models\n",
    "bigram = gensim.models.Phrases(data_words, min_count=5, threshold=10) # higher threshold fewer phrases.\n",
    "\n",
    "# Faster way to get a sentence clubbed as a bigram\n",
    "bigram_mod = gensim.models.phrases.Phraser(bigram)\n",
    "\n",
    "def make_bigrams(texts):\n",
    "    return [bigram_mod[doc] for doc in texts]\n",
    "\n",
    "# Form Bigrams\n",
    "data_words_bigrams = make_bigrams(data_words_nostops)\n",
    "\n",
    "print(data_words_bigrams[10])"
   ]
  },
  {
   "cell_type": "code",
   "execution_count": 32,
   "id": "529446e6",
   "metadata": {},
   "outputs": [
    {
     "name": "stdout",
     "output_type": "stream",
     "text": [
      "Before Lemmatization: [['lazada', 'seller', 'lost', 'lot', 'ninja', 'delivery', 'service', 'trustworthy', 'long', 'hand', 'package', 'always', 'return', 'reason', 'clear', 'week', 'good', 'finally', 'return', 'good']]\n",
      "After Lemmatization:  [['lazada', 'seller', 'lot', 'delivery', 'service', 'hand', 'package', 'reason', 'week', 'good']]\n"
     ]
    }
   ],
   "source": [
    "def lemmatization(texts, allowed_postags=['NOUN']):\n",
    "    \"\"\"\"\"\"\n",
    "    texts_out = []\n",
    "    for sent in texts:\n",
    "        doc = nlp(\" \".join(sent)) \n",
    "        texts_out.append([token.lemma_ for token in doc if token.pos_ in allowed_postags])\n",
    "    return texts_out\n",
    "\n",
    "# Initialize spacy 'en' model, keeping only tagger component\n",
    "# For normal use\n",
    "# !python -m spacy download en_core_web_sm\n",
    "# nlp = spacy.load('en_core_web_sm', disable=['parser', 'ner'])\n",
    "\n",
    "# For Colab use\n",
    "import en_core_web_sm\n",
    "nlp = en_core_web_sm.load()\n",
    "\n",
    "print(\"Before Lemmatization:\", data_words_bigrams[:1])\n",
    "\n",
    "# Do lemmatization keeping only noun\n",
    "data_lemmatized = lemmatization(data_words_bigrams, allowed_postags=['NOUN', 'PROPN'])\n",
    "\n",
    "print(\"After Lemmatization: \", data_lemmatized[:1])"
   ]
  },
  {
   "cell_type": "code",
   "execution_count": 33,
   "id": "2f485bfb",
   "metadata": {},
   "outputs": [
    {
     "name": "stdout",
     "output_type": "stream",
     "text": [
      "[[(0, 1), (1, 1), (2, 1), (3, 1), (4, 1), (5, 1), (6, 1), (7, 1), (8, 1), (9, 1)]]\n"
     ]
    }
   ],
   "source": [
    "# Create Dictionary\n",
    "id2word = corpora.Dictionary(data_lemmatized)\n",
    "id2word.filter_extremes(no_below=1.5, no_above=0.8) # this will filter out words that are less frequen\n",
    "\n",
    "# Create Corpus\n",
    "texts = data_lemmatized\n",
    "\n",
    "# Term Document Frequency\n",
    "corpus = [id2word.doc2bow(text) for text in texts]\n",
    "\n",
    "# View\n",
    "print(corpus[:1])"
   ]
  },
  {
   "cell_type": "code",
   "execution_count": 34,
   "id": "4dc9f439",
   "metadata": {},
   "outputs": [
    {
     "data": {
      "text/plain": [
       "[(0,\n",
       "  '0.078*\"time\" + 0.067*\"service\" + 0.058*\"delivery\" + 0.048*\"package\" + 0.040*\"expedition\" + 0.032*\"courier\" + 0.029*\"day\" + 0.022*\"use\" + 0.017*\"week\" + 0.015*\"even_though\"'),\n",
       " (1,\n",
       "  '0.053*\"package\" + 0.027*\"courier\" + 0.024*\"delivery\" + 0.024*\"name\" + 0.020*\"ninja\" + 0.019*\"work\" + 0.017*\"time\" + 0.015*\"kaga\" + 0.015*\"july\" + 0.015*\"day\"')]"
      ]
     },
     "execution_count": 34,
     "metadata": {},
     "output_type": "execute_result"
    }
   ],
   "source": [
    "# Build LDA model\n",
    "\n",
    "# Let's start with 2 topics.\n",
    "lda_model = models.LdaModel(corpus=corpus, id2word=id2word, num_topics=2, passes=10)\n",
    "lda_model.print_topics()"
   ]
  },
  {
   "cell_type": "code",
   "execution_count": 35,
   "id": "4fe90837",
   "metadata": {},
   "outputs": [
    {
     "data": {
      "text/plain": [
       "[(0,\n",
       "  '0.104*\"time\" + 0.081*\"delivery\" + 0.045*\"expedition\" + 0.038*\"package\" + 0.030*\"use\" + 0.027*\"service\" + 0.025*\"courier\" + 0.021*\"ninja\" + 0.020*\"day\" + 0.019*\"even_though\"'),\n",
       " (1,\n",
       "  '0.045*\"time\" + 0.041*\"service\" + 0.034*\"courier\" + 0.030*\"jakarta\" + 0.027*\"delivery\" + 0.026*\"day\" + 0.026*\"transit\" + 0.025*\"package\" + 0.021*\"star\" + 0.021*\"status\"'),\n",
       " (2,\n",
       "  '0.093*\"package\" + 0.075*\"service\" + 0.034*\"courier\" + 0.029*\"stuff\" + 0.029*\"day\" + 0.028*\"week\" + 0.018*\"lot\" + 0.018*\"july\" + 0.018*\"delivery\" + 0.016*\"ninja\"')]"
      ]
     },
     "execution_count": 35,
     "metadata": {},
     "output_type": "execute_result"
    }
   ],
   "source": [
    "# 3 topics.\n",
    "lda_model = models.LdaModel(corpus=corpus, id2word=id2word, num_topics=3, passes=10)\n",
    "lda_model.print_topics()"
   ]
  },
  {
   "cell_type": "code",
   "execution_count": 36,
   "id": "584fd4c5",
   "metadata": {},
   "outputs": [
    {
     "name": "stdout",
     "output_type": "stream",
     "text": [
      "\n",
      "Perplexity:  -5.0204217508661095\n",
      "\n",
      "Coherence Score:  0.5139303730406127\n"
     ]
    }
   ],
   "source": [
    "# Compute Perplexity\n",
    "print('\\nPerplexity: ', lda_model.log_perplexity(corpus))  # a measure of how good the model is. lower the better.\n",
    "\n",
    "# Compute Coherence Score\n",
    "coherence_model_lda = CoherenceModel(model=lda_model, texts=data_lemmatized, dictionary=id2word, coherence='c_v')\n",
    "coherence_lda = coherence_model_lda.get_coherence()\n",
    "print('\\nCoherence Score: ', coherence_lda)"
   ]
  },
  {
   "cell_type": "code",
   "execution_count": 37,
   "id": "69786096",
   "metadata": {},
   "outputs": [],
   "source": [
    "def compute_coherence_values(dictionary, corpus, texts, limit, start=2, step=3):\n",
    "    \"\"\"\n",
    "    Compute c_v coherence for various number of topics\n",
    "\n",
    "    Parameters:\n",
    "    ----------\n",
    "    dictionary : Gensim dictionary\n",
    "    corpus : Gensim corpus\n",
    "    texts : List of input texts\n",
    "    limit : Max num of topics\n",
    "\n",
    "    Returns:\n",
    "    -------\n",
    "    model_list : List of LDA topic models\n",
    "    coherence_values : Coherence values corresponding to the LDA model with respective number of topics\n",
    "    \"\"\"\n",
    "    coherence_values = []\n",
    "    model_list = []  \n",
    "    for num_topics in range(start, limit, step):\n",
    "        print(f'Training model for num_topics= {num_topics}')\n",
    "        model = models.LdaModel(corpus=corpus, id2word=id2word, num_topics=num_topics, passes=10)\n",
    "        model_list.append(model)\n",
    "        coherencemodel = CoherenceModel(model=model, texts=texts, dictionary=dictionary, coherence='c_v')\n",
    "        coherence_values.append(coherencemodel.get_coherence())\n",
    "\n",
    "    return model_list, coherence_values"
   ]
  },
  {
   "cell_type": "code",
   "execution_count": 38,
   "id": "1635a0ea",
   "metadata": {},
   "outputs": [
    {
     "name": "stdout",
     "output_type": "stream",
     "text": [
      "Training model for num_topics= 2\n",
      "Training model for num_topics= 8\n",
      "Training model for num_topics= 14\n",
      "Training model for num_topics= 20\n",
      "Training model for num_topics= 26\n",
      "Training model for num_topics= 32\n",
      "Training model for num_topics= 38\n",
      "Training model for num_topics= 44\n",
      "Training model for num_topics= 50\n",
      "Training model for num_topics= 56\n",
      "Completed!\n"
     ]
    }
   ],
   "source": [
    "start = 2\n",
    "limit = 60\n",
    "step = 6\n",
    "# Can take a long time to run.\n",
    "model_list, coherence_values = compute_coherence_values(dictionary=id2word, corpus=corpus, texts=data_lemmatized, start=start, limit=limit, step=step)\n",
    "print('Completed!')"
   ]
  },
  {
   "cell_type": "code",
   "execution_count": 39,
   "id": "efc8a31b",
   "metadata": {},
   "outputs": [
    {
     "data": {
      "image/png": "[encoded data removed]",
      "text/plain": [
       "<Figure size 432x288 with 1 Axes>"
      ]
     },
     "metadata": {
      "needs_background": "light"
     },
     "output_type": "display_data"
    }
   ],
   "source": [
    "# Show graph\n",
    "x = range(start, limit, step)\n",
    "plt.plot(x, coherence_values)\n",
    "plt.xlabel(\"Num Topics\")\n",
    "plt.ylabel(\"Coherence score\")\n",
    "plt.legend((\"coherence_values\"), loc='best')\n",
    "plt.show()"
   ]
  },
  {
   "cell_type": "code",
   "execution_count": 40,
   "id": "96a21001",
   "metadata": {},
   "outputs": [
    {
     "name": "stdout",
     "output_type": "stream",
     "text": [
      "Num Topics = 2  has Coherence Value of 0.4363\n",
      "Num Topics = 8  has Coherence Value of 0.4094\n",
      "Num Topics = 14  has Coherence Value of 0.3863\n",
      "Num Topics = 20  has Coherence Value of 0.3863\n",
      "Num Topics = 26  has Coherence Value of 0.4287\n",
      "Num Topics = 32  has Coherence Value of 0.4336\n",
      "Num Topics = 38  has Coherence Value of 0.4575\n",
      "Num Topics = 44  has Coherence Value of 0.4617\n",
      "Num Topics = 50  has Coherence Value of 0.4653\n",
      "Num Topics = 56  has Coherence Value of 0.4797\n"
     ]
    }
   ],
   "source": [
    "# Print the coherence scores\n",
    "for m, cv in zip(x, coherence_values):\n",
    "    print(\"Num Topics =\", m, \" has Coherence Value of\", round(cv, 4))"
   ]
  },
  {
   "cell_type": "code",
   "execution_count": 41,
   "id": "83c6ae06",
   "metadata": {},
   "outputs": [
    {
     "name": "stderr",
     "output_type": "stream",
     "text": [
      "/Users/shureenteh/opt/anaconda3/lib/python3.8/site-packages/pyLDAvis/_prepare.py:246: FutureWarning: In a future version of pandas all arguments of DataFrame.drop except for the argument 'labels' will be keyword-only\n",
      "  default_term_info = default_term_info.sort_values(\n"
     ]
    },
    {
     "data": {
      "text/html": [
       "\n",
       "<link rel=\"stylesheet\" type=\"text/css\" href=\"https://cdn.jsdelivr.net/gh/bmabey/pyLDAvis@3.3.1/pyLDAvis/js/ldavis.v1.0.0.css\">\n",
       "\n",
       "\n",
       "<div id=\"ldavis_el417301404830660374087369077681\"></div>\n",
       "<script type=\"text/javascript\">\n",
       "\n",
       "var ldavis_el417301404830660374087369077681_data = {\"mdsDat\": {\"x\": [-0.042873109005243874, -0.09438861613683383, 0.13726172514207768], \"y\": [-0.12689799839834995, 0.09867781661323559, 0.02822018178511434], \"topics\": [1, 2, 3], \"cluster\": [1, 1, 1], \"Freq\": [40.757043080722354, 31.02591739271964, 28.217039526558]}, \"tinfo\": {\"Term\": [\"time\", \"package\", \"transit\", \"stuff\", \"service\", \"delivery\", \"lot\", \"july\", \"week\", \"star\", \"status\", \"jakarta\", \"kaga\", \"bekasi\", \"city\", \"customer\", \"yesterday\", \"kg\", \"change\", \"olshop\", \"recipient\", \"ga\", \"pa\", \"lazada\", \"onion\", \"pasuruan\", \"indonesia\", \"name\", \"information\", \"night\", \"information\", \"night\", \"month\", \"process\", \"call\", \"sicepat\", \"balikpapan\", \"want\", \"hub\", \"office\", \"partner\", \"way\", \"shipment\", \"fellow\", \"bandung\", \"monday\", \"le\", \"apalagi\", \"afternoon\", \"friday\", \"party\", \"thursday\", \"location\", \"admin\", \"tlp\", \"accountability\", \"ask\", \"today\", \"dispatch\", \"driver\", \"even_though\", \"time\", \"use\", \"delivery\", \"expedition\", \"name\", \"response\", \"ninja\", \"jne\", \"pickup\", \"express\", \"pick\", \"shipping\", \"kapok\", \"package\", \"courier\", \"day\", \"service\", \"transit\", \"kaga\", \"bekasi\", \"city\", \"customer\", \"yesterday\", \"onion\", \"pasuruan\", \"indonesia\", \"depokkk\", \"warehouse\", \"notification\", \"visaa\", \"aaaaa\", \"morning\", \"lg\", \"know\", \"send\", \"north\", \"slowness\", \"cikarang\", \"eeeh\", \"store\", \"tracking\", \"death\", \"year\", \"seler\", \"dozen\", \"cmn\", \"bandar\", \"status\", \"jakarta\", \"star\", \"xpress\", \"snail\", \"item\", \"courier\", \"service\", \"time\", \"day\", \"work\", \"order\", \"address\", \"delivery\", \"package\", \"expedition\", \"ninja\", \"use\", \"week\", \"people\", \"complaint\", \"lot\", \"july\", \"kg\", \"change\", \"olshop\", \"recipient\", \"ga\", \"pa\", \"stuff\", \"good\", \"hand\", \"damn\", \"disbursement\", \"minute\", \"reason\", \"chat\", \"money\", \"kendari\", \"reply\", \"pdhal\", \"cod\", \"bill\", \"uda\", \"weight\", \"promise\", \"call_center\", \"intention\", \"using\", \"update\", \"cakung\", \"week\", \"package\", \"service\", \"lazada\", \"courier\", \"day\", \"seller\", \"ninja\", \"name\", \"star\", \"delivery\", \"expedition\", \"jakarta\", \"problem\", \"email\", \"complaint\", \"jt\", \"check\", \"regret\", \"report\"], \"Freq\": [60.0, 52.0, 9.0, 10.0, 47.0, 49.0, 5.0, 5.0, 12.0, 10.0, 9.0, 14.0, 5.0, 5.0, 5.0, 5.0, 5.0, 4.0, 4.0, 4.0, 4.0, 4.0, 4.0, 7.0, 4.0, 4.0, 4.0, 10.0, 5.0, 5.0, 5.281746207968438, 5.2816696482927075, 5.254148248629456, 3.6141538147347276, 3.613868419503731, 3.6138339476078523, 3.613536928132896, 3.6134515500651965, 3.61228712148929, 3.610669347398977, 3.610632871323105, 3.6099410283895375, 3.6061146479469888, 1.945850538857516, 1.945809854003659, 1.9457988310136978, 1.9457926180557197, 1.9457904134577275, 1.9457890105317324, 1.9457813946477591, 1.945775782943779, 1.945701227448041, 1.945687599024089, 1.9456719664201438, 1.94567016265815, 1.9456545300542052, 1.945630079058291, 1.9456172523063362, 1.9454775609608272, 1.9454334690009822, 8.285720208800205, 44.675256390147666, 12.990165576486099, 34.987794255819175, 19.560027126118268, 6.966975385140148, 3.941741844615118, 9.178519865245638, 3.6364467096323585, 3.6398910933682505, 3.6324583914463795, 3.627781437014821, 3.6269881825736094, 3.6212650461857288, 16.429276715652176, 10.915200351196475, 8.587556930787121, 11.41647302428229, 8.540985716840535, 5.234992450793298, 5.234820966243737, 5.23290412293352, 5.225969068053767, 5.225488178996635, 3.581591822140465, 3.5788978059695156, 3.5749570177887686, 1.9284906811840627, 1.9284433856232408, 1.9284148557204224, 1.9284104312969907, 1.9284090582000637, 1.9283912079400114, 1.9283905976747107, 1.9283704589197799, 1.9283686281238772, 1.9283638985677949, 1.92834421751184, 1.9283272826497393, 1.9283246890222103, 1.9283188915018514, 1.928291582129635, 1.928277851160364, 1.928276020364461, 1.9281442030594607, 1.9281361170442233, 1.9280593761826315, 1.9280387797287253, 6.939548873429124, 9.665558813045099, 6.945766256314985, 5.284841361634353, 3.622877185146239, 3.600321779623916, 11.231697301185495, 13.527688678624509, 14.837773272331868, 8.578963747047926, 3.659685947037051, 3.6258415488455, 3.621242894670352, 8.91761338836985, 8.225819084298344, 6.022742429721618, 3.499260930392182, 2.6813894767406254, 2.131247360693148, 1.948182569348103, 1.9420849510275493, 5.273136946291275, 5.251732754810183, 3.6078531079753473, 3.607229825023622, 3.606779707059376, 3.5992614605196933, 3.5949079151293732, 3.594172796456569, 8.754541317304465, 1.9426393404275901, 1.9425749585732712, 1.9425680208734524, 1.9425682983814452, 1.9425348586683184, 1.9425327773583727, 1.9425302797864379, 1.942510437964956, 1.9425021127251734, 1.9424983663672712, 1.9424683955040538, 1.9424671467180865, 1.9424020710937857, 1.9423289477376953, 1.9423236750858328, 1.9423213162678945, 1.942248609173793, 1.9420859894900393, 1.942018138785811, 1.9417871133818436, 1.9416575171492276, 8.263999318769551, 27.77984437192168, 22.44613853113199, 4.555574539140342, 10.269027867374026, 8.602362039254187, 3.619157673568161, 4.801474926535365, 3.5907061666110898, 3.5352517444191216, 5.226342438521177, 3.5556202760712563, 2.083573162087511, 1.9686354566647768, 1.9629613894909386, 1.9750064851624158, 1.9565877246673684, 1.9557527031171726, 1.9524330137538568, 1.9476493309747687], \"Total\": [60.0, 52.0, 9.0, 10.0, 47.0, 49.0, 5.0, 5.0, 12.0, 10.0, 9.0, 14.0, 5.0, 5.0, 5.0, 5.0, 5.0, 4.0, 4.0, 4.0, 4.0, 4.0, 4.0, 7.0, 4.0, 4.0, 4.0, 10.0, 5.0, 5.0, 5.836902747251205, 5.836903451604032, 5.836790436613267, 4.168341811935174, 4.168339744906098, 4.1683397390694585, 4.168336402076887, 4.168335998036204, 4.168325753010079, 4.1683107923486835, 4.168309907429861, 4.168304530630691, 4.168322794714949, 2.499774339122851, 2.499773956266216, 2.499774101238516, 2.4997740844660945, 2.499773673910326, 2.4997742323429337, 2.499774169989991, 2.4997737731657264, 2.4997731043856426, 2.4997730678934484, 2.499773093023527, 2.4997728737295226, 2.4997724544843285, 2.499772636114708, 2.4997724277697477, 2.4997712017805864, 2.499770605485076, 10.836369441648378, 60.764735291462856, 17.492057020867577, 49.131750082710205, 29.13838983191114, 10.836626421338947, 5.834418846550159, 17.479255722173185, 5.821958392131196, 5.833934718798041, 5.821923511635276, 5.833908735958271, 5.833886868869917, 5.821821984316152, 52.4349401718722, 32.415925519755994, 25.768882717089234, 47.39030023403879, 9.098518240955704, 5.791600417775042, 5.791601867567772, 5.7916141550792375, 5.7916726089271195, 5.791666373869991, 4.138144167562434, 4.138164164254287, 4.138194553001818, 2.4846841439699516, 2.48468423222458, 2.4846843143090127, 2.4846847253444317, 2.4846844981120237, 2.484684580022606, 2.484684628703926, 2.4846848675539235, 2.484684826637665, 2.4846849819154615, 2.4846848485682083, 2.484685057048154, 2.4846853090613434, 2.484684976008758, 2.48468510176244, 2.484685261294129, 2.4846852657865126, 2.4846854287295996, 2.484685231465415, 2.4846858443184745, 2.4846859647463853, 9.11309674221808, 14.09062367803928, 10.775804293080558, 9.125228356529107, 5.806269111530915, 5.803559158542701, 32.415925519755994, 47.39030023403879, 60.764735291462856, 25.768882717089234, 7.471540597761819, 7.474807909580186, 7.471876450936885, 49.131750082710205, 52.4349401718722, 29.13838983191114, 17.479255722173185, 17.492057020867577, 12.479878866530338, 4.153004218961452, 5.818562214955494, 5.828004172944359, 5.8280465372646075, 4.162413961620617, 4.162409381450706, 4.162409684750657, 4.16237856851491, 4.162438333650617, 4.162438868002105, 10.813840739500296, 2.4968202668725037, 2.496820195734226, 2.4968200534990364, 2.496820759909326, 2.4968200750691416, 2.4968197866639974, 2.496820248349829, 2.496820577474616, 2.496820183081525, 2.496819878675447, 2.4968183362600342, 2.4968202979944953, 2.4968198469800833, 2.4968181121487936, 2.496819856081866, 2.496819541963568, 2.4968191360279026, 2.496819141293086, 2.496817595915835, 2.496813498047863, 2.496812969807791, 12.479878866530338, 52.4349401718722, 47.39030023403879, 7.497716314678163, 32.415925519755994, 25.768882717089234, 7.499431387707212, 17.479255722173185, 10.836626421338947, 10.775804293080558, 49.131750082710205, 29.13838983191114, 14.09062367803928, 4.165273312841514, 4.150427485526883, 5.818562214955494, 4.165295453577788, 4.165238412789122, 4.165296446442757, 4.165310419494943], \"Category\": [\"Default\", \"Default\", \"Default\", \"Default\", \"Default\", \"Default\", \"Default\", \"Default\", \"Default\", \"Default\", \"Default\", \"Default\", \"Default\", \"Default\", \"Default\", \"Default\", \"Default\", \"Default\", \"Default\", \"Default\", \"Default\", \"Default\", \"Default\", \"Default\", \"Default\", \"Default\", \"Default\", \"Default\", \"Default\", \"Default\", \"Topic1\", \"Topic1\", \"Topic1\", \"Topic1\", \"Topic1\", \"Topic1\", \"Topic1\", \"Topic1\", \"Topic1\", \"Topic1\", \"Topic1\", \"Topic1\", \"Topic1\", \"Topic1\", \"Topic1\", \"Topic1\", \"Topic1\", \"Topic1\", \"Topic1\", \"Topic1\", \"Topic1\", \"Topic1\", \"Topic1\", \"Topic1\", \"Topic1\", \"Topic1\", \"Topic1\", \"Topic1\", \"Topic1\", \"Topic1\", \"Topic1\", \"Topic1\", \"Topic1\", \"Topic1\", \"Topic1\", \"Topic1\", \"Topic1\", \"Topic1\", \"Topic1\", \"Topic1\", \"Topic1\", \"Topic1\", \"Topic1\", \"Topic1\", \"Topic1\", \"Topic1\", \"Topic1\", \"Topic1\", \"Topic2\", \"Topic2\", \"Topic2\", \"Topic2\", \"Topic2\", \"Topic2\", \"Topic2\", \"Topic2\", \"Topic2\", \"Topic2\", \"Topic2\", \"Topic2\", \"Topic2\", \"Topic2\", \"Topic2\", \"Topic2\", \"Topic2\", \"Topic2\", \"Topic2\", \"Topic2\", \"Topic2\", \"Topic2\", \"Topic2\", \"Topic2\", \"Topic2\", \"Topic2\", \"Topic2\", \"Topic2\", \"Topic2\", \"Topic2\", \"Topic2\", \"Topic2\", \"Topic2\", \"Topic2\", \"Topic2\", \"Topic2\", \"Topic2\", \"Topic2\", \"Topic2\", \"Topic2\", \"Topic2\", \"Topic2\", \"Topic2\", \"Topic2\", \"Topic2\", \"Topic2\", \"Topic2\", \"Topic2\", \"Topic2\", \"Topic2\", \"Topic2\", \"Topic3\", \"Topic3\", \"Topic3\", \"Topic3\", \"Topic3\", \"Topic3\", \"Topic3\", \"Topic3\", \"Topic3\", \"Topic3\", \"Topic3\", \"Topic3\", \"Topic3\", \"Topic3\", \"Topic3\", \"Topic3\", \"Topic3\", \"Topic3\", \"Topic3\", \"Topic3\", \"Topic3\", \"Topic3\", \"Topic3\", \"Topic3\", \"Topic3\", \"Topic3\", \"Topic3\", \"Topic3\", \"Topic3\", \"Topic3\", \"Topic3\", \"Topic3\", \"Topic3\", \"Topic3\", \"Topic3\", \"Topic3\", \"Topic3\", \"Topic3\", \"Topic3\", \"Topic3\", \"Topic3\", \"Topic3\", \"Topic3\", \"Topic3\", \"Topic3\", \"Topic3\", \"Topic3\", \"Topic3\", \"Topic3\", \"Topic3\"], \"logprob\": [30.0, 29.0, 28.0, 27.0, 26.0, 25.0, 24.0, 23.0, 22.0, 21.0, 20.0, 19.0, 18.0, 17.0, 16.0, 15.0, 14.0, 13.0, 12.0, 11.0, 10.0, 9.0, 8.0, 7.0, 6.0, 5.0, 4.0, 3.0, 2.0, 1.0, -4.4004, -4.4005, -4.4057, -4.7798, -4.7799, -4.7799, -4.78, -4.78, -4.7804, -4.7808, -4.7808, -4.781, -4.7821, -5.399, -5.399, -5.399, -5.399, -5.399, -5.399, -5.399, -5.399, -5.3991, -5.3991, -5.3991, -5.3991, -5.3991, -5.3991, -5.3991, -5.3992, -5.3992, -3.9502, -2.2653, -3.5005, -2.5097, -3.0912, -4.1235, -4.6931, -3.8478, -4.7737, -4.7727, -4.7748, -4.7761, -4.7763, -4.7779, -3.2656, -3.6745, -3.9144, -3.6296, -3.647, -4.1365, -4.1366, -4.1369, -4.1383, -4.1383, -4.5161, -4.5168, -4.5179, -5.1352, -5.1352, -5.1352, -5.1352, -5.1352, -5.1352, -5.1352, -5.1352, -5.1352, -5.1352, -5.1352, -5.1352, -5.1352, -5.1352, -5.1353, -5.1353, -5.1353, -5.1353, -5.1353, -5.1354, -5.1354, -3.8547, -3.5233, -3.8538, -4.1271, -4.5046, -4.5109, -3.3732, -3.1872, -3.0947, -3.6426, -4.4945, -4.5038, -4.5051, -3.6039, -3.6846, -3.9964, -4.5393, -4.8056, -5.0352, -5.125, -5.1281, -4.0344, -4.0384, -4.4139, -4.4141, -4.4142, -4.4163, -4.4175, -4.4177, -3.5274, -5.033, -5.033, -5.033, -5.033, -5.033, -5.033, -5.033, -5.033, -5.033, -5.033, -5.033, -5.033, -5.0331, -5.0331, -5.0331, -5.0331, -5.0332, -5.0332, -5.0333, -5.0334, -5.0335, -3.5851, -2.3727, -2.5859, -4.1806, -3.3679, -3.545, -4.4108, -4.1281, -4.4187, -4.4342, -4.0433, -4.4285, -4.9629, -5.0197, -5.0225, -5.0164, -5.0258, -5.0262, -5.0279, -5.0304], \"loglift\": [30.0, 29.0, 28.0, 27.0, 26.0, 25.0, 24.0, 23.0, 22.0, 21.0, 20.0, 19.0, 18.0, 17.0, 16.0, 15.0, 14.0, 13.0, 12.0, 11.0, 10.0, 9.0, 8.0, 7.0, 6.0, 5.0, 4.0, 3.0, 2.0, 1.0, 0.7976, 0.7976, 0.7924, 0.7549, 0.7548, 0.7548, 0.7547, 0.7547, 0.7544, 0.7539, 0.7539, 0.7537, 0.7527, 0.647, 0.647, 0.647, 0.647, 0.647, 0.647, 0.647, 0.647, 0.647, 0.647, 0.6469, 0.6469, 0.6469, 0.6469, 0.6469, 0.6468, 0.6468, 0.6292, 0.59, 0.6, 0.558, 0.499, 0.4558, 0.5054, 0.2534, 0.4269, 0.4258, 0.4258, 0.4225, 0.4223, 0.4228, -0.263, -0.191, -0.2013, -0.5258, 1.1071, 1.0693, 1.0693, 1.0689, 1.0676, 1.0675, 1.0259, 1.0251, 1.024, 0.9169, 0.9169, 0.9169, 0.9169, 0.9169, 0.9169, 0.9169, 0.9169, 0.9169, 0.9169, 0.9169, 0.9169, 0.9169, 0.9169, 0.9168, 0.9168, 0.9168, 0.9168, 0.9168, 0.9167, 0.9167, 0.8979, 0.7934, 0.7312, 0.6241, 0.6987, 0.6929, 0.1104, -0.0833, -0.2395, 0.0705, 0.4566, 0.4469, 0.446, -0.5361, -0.6819, -0.4062, -0.4381, -0.7051, -0.5971, 0.4134, 0.0731, 1.1652, 1.1611, 1.1223, 1.1221, 1.122, 1.1199, 1.1187, 1.1185, 1.054, 1.0143, 1.0142, 1.0142, 1.0142, 1.0142, 1.0142, 1.0142, 1.0142, 1.0142, 1.0142, 1.0142, 1.0142, 1.0142, 1.0141, 1.0141, 1.0141, 1.0141, 1.014, 1.014, 1.0138, 1.0138, 0.853, 0.63, 0.5179, 0.767, 0.1157, 0.1681, 0.5367, -0.0268, 0.1607, 0.1507, -0.9755, -0.8383, -0.6462, 0.5158, 0.5165, 0.1848, 0.5097, 0.5092, 0.5075, 0.5051]}, \"token.table\": {\"Topic\": [2, 1, 1, 2, 3, 1, 1, 1, 1, 1, 2, 1, 2, 3, 3, 1, 3, 3, 3, 1, 3, 2, 2, 2, 3, 1, 2, 3, 1, 2, 3, 2, 3, 1, 2, 3, 2, 1, 2, 3, 2, 3, 1, 2, 1, 2, 2, 3, 1, 2, 3, 1, 2, 3, 1, 2, 1, 1, 3, 3, 3, 1, 2, 1, 3, 2, 3, 1, 2, 3, 1, 2, 1, 3, 3, 2, 1, 2, 3, 3, 2, 1, 3, 1, 2, 1, 3, 3, 1, 3, 1, 2, 1, 3, 1, 1, 2, 3, 2, 2, 1, 3, 2, 1, 2, 3, 1, 2, 3, 1, 1, 2, 3, 1, 2, 1, 3, 1, 3, 1, 3, 1, 3, 3, 3, 1, 3, 3, 1, 3, 1, 3, 2, 1, 3, 2, 1, 2, 3, 1, 1, 3, 1, 2, 1, 2, 2, 3, 1, 2, 2, 2, 3, 1, 1, 2, 3, 1, 1, 2, 2, 3, 3, 1, 2, 3, 3, 2, 1, 2, 1, 1, 2, 3, 3, 1, 2, 3, 1, 2, 3, 2, 2], \"Freq\": [0.80493116994117, 0.8000728211930692, 0.26767037880413874, 0.5353407576082775, 0.26767037880413874, 0.8000726168233769, 0.8000722521751429, 0.8000724309058972, 0.8000727630607702, 0.9596154470658814, 0.8049306948148445, 0.8000723405356609, 0.8633190116191098, 0.8010189451269424, 0.8010211514376919, 0.9596146774955624, 0.8010191732116112, 0.9609818817499152, 0.801018816361257, 0.48016459126544025, 0.48016459126544025, 0.8049309888698861, 0.8633171799980852, 0.8049307338282763, 0.8010188004344754, 0.3437275268552401, 0.3437275268552401, 0.3437275268552401, 0.3393393779022602, 0.3393393779022602, 0.30849034354750926, 0.8633084667619406, 0.8010188788724305, 0.3492584486028741, 0.3492584486028741, 0.3492584486028741, 0.8049309227029888, 0.7123703092415741, 0.18318093666211904, 0.10176718703451058, 0.8049312846680229, 0.801018652245038, 0.8000732221314497, 0.8049309323662064, 0.8000734129809897, 0.8049309072284706, 0.4818780732766149, 0.4818780732766149, 0.7382546380573638, 0.09228182975717047, 0.18456365951434095, 0.6863797250078946, 0.20591391750236837, 0.13727594500157891, 0.6870581504559256, 0.3435290752279628, 0.8000722179993985, 0.8000722721316894, 0.9609751975573047, 0.8010188104188947, 0.8010188332411622, 0.9596178986518688, 0.9666051097328006, 0.856618692568532, 0.8010191715224569, 0.6892322264195576, 0.3446161132097788, 0.14193835884759795, 0.7096917942379898, 0.14193835884759795, 0.6870540341556363, 0.34352701707781813, 0.48015801574942213, 0.48015801574942213, 0.857920397174239, 0.8633192277309851, 0.6870701321297531, 0.34353506606487655, 0.8010188373003458, 0.9609808243201785, 0.8049310502578635, 0.4001218336477931, 0.6668697227463217, 0.8000722995042822, 0.8049311276349991, 0.800072624866462, 0.8579266334797347, 0.8010188719524038, 0.8000722941361371, 0.8010187107729141, 0.8566351754957292, 0.8049311434056566, 0.6459574897050938, 0.3691185655457679, 0.8566185891983457, 0.5148960655448912, 0.1716320218482971, 0.28605336974716183, 0.8049310132096447, 0.8049312294854637, 0.9596213428572472, 0.9609818117265921, 0.9666168789755318, 0.5351308084952053, 0.5351308084952053, 0.9609750741924836, 0.3051400449310118, 0.1525700224655059, 0.5339950786292706, 0.9596215465817801, 0.8000723991384188, 0.9666122080298898, 0.8010194297899083, 0.48157909179782704, 0.48157909179782704, 0.6856466532198784, 0.3428233266099392, 0.6856435995266186, 0.3428217997633093, 0.480160568055405, 0.480160568055405, 0.9596142016345295, 0.8010190429810335, 0.8010189644772887, 0.9609889956326474, 0.4801579012960862, 0.4801579012960862, 0.801018934958573, 0.48015629054664943, 0.48015629054664943, 0.6855867062689825, 0.3427933531344913, 0.8049308684611172, 0.5333737710510494, 0.5333737710510494, 0.804931063512972, 0.2321150097314447, 0.295419103294566, 0.4642300194628894, 0.959618579701081, 0.6856492232210256, 0.3428246116105128, 0.9596146788392448, 0.8049310564084188, 0.34445527094638373, 0.6889105418927675, 0.6496034829154139, 0.3712019902373794, 0.2194643661286548, 0.7681252814502918, 0.8049310151231625, 0.18494816487304946, 0.8322667419287226, 0.8000726131868399, 0.7405611130231037, 0.24685370434103457, 0.016456913622735637, 0.8000726870102046, 0.8000728297432915, 0.8049309743843828, 0.9891720565539741, 0.8010195016884007, 0.8010209819690989, 0.7431944673225872, 0.17150641553598164, 0.11433761035732111, 0.8010196673042903, 0.804931096327626, 0.9596155400822989, 0.8049312560773028, 0.9596227844213614, 0.16025796575348017, 0.16025796575348017, 0.6410318630139207, 0.8010189422069478, 0.2676824108536761, 0.5353648217073522, 0.2676824108536761, 0.21917259731577005, 0.5479314932894251, 0.21917259731577005, 0.8049309212476501, 0.8633093961624382], \"Term\": [\"aaaaa\", \"accountability\", \"address\", \"address\", \"address\", \"admin\", \"afternoon\", \"apalagi\", \"ask\", \"balikpapan\", \"bandar\", \"bandung\", \"bekasi\", \"bill\", \"cakung\", \"call\", \"call_center\", \"change\", \"chat\", \"check\", \"check\", \"cikarang\", \"city\", \"cmn\", \"cod\", \"complaint\", \"complaint\", \"complaint\", \"courier\", \"courier\", \"courier\", \"customer\", \"damn\", \"day\", \"day\", \"day\", \"death\", \"delivery\", \"delivery\", \"delivery\", \"depokkk\", \"disbursement\", \"dispatch\", \"dozen\", \"driver\", \"eeeh\", \"email\", \"email\", \"even_though\", \"even_though\", \"even_though\", \"expedition\", \"expedition\", \"expedition\", \"express\", \"express\", \"fellow\", \"friday\", \"ga\", \"good\", \"hand\", \"hub\", \"indonesia\", \"information\", \"intention\", \"item\", \"item\", \"jakarta\", \"jakarta\", \"jakarta\", \"jne\", \"jne\", \"jt\", \"jt\", \"july\", \"kaga\", \"kapok\", \"kapok\", \"kendari\", \"kg\", \"know\", \"lazada\", \"lazada\", \"le\", \"lg\", \"location\", \"lot\", \"minute\", \"monday\", \"money\", \"month\", \"morning\", \"name\", \"name\", \"night\", \"ninja\", \"ninja\", \"ninja\", \"north\", \"notification\", \"office\", \"olshop\", \"onion\", \"order\", \"order\", \"pa\", \"package\", \"package\", \"package\", \"partner\", \"party\", \"pasuruan\", \"pdhal\", \"people\", \"people\", \"pick\", \"pick\", \"pickup\", \"pickup\", \"problem\", \"problem\", \"process\", \"promise\", \"reason\", \"recipient\", \"regret\", \"regret\", \"reply\", \"report\", \"report\", \"response\", \"response\", \"seler\", \"seller\", \"seller\", \"send\", \"service\", \"service\", \"service\", \"shipment\", \"shipping\", \"shipping\", \"sicepat\", \"slowness\", \"snail\", \"snail\", \"star\", \"star\", \"status\", \"status\", \"store\", \"stuff\", \"stuff\", \"thursday\", \"time\", \"time\", \"time\", \"tlp\", \"today\", \"tracking\", \"transit\", \"uda\", \"update\", \"use\", \"use\", \"use\", \"using\", \"visaa\", \"want\", \"warehouse\", \"way\", \"week\", \"week\", \"week\", \"weight\", \"work\", \"work\", \"work\", \"xpress\", \"xpress\", \"xpress\", \"year\", \"yesterday\"]}, \"R\": 30, \"lambda.step\": 0.01, \"plot.opts\": {\"xlab\": \"PC1\", \"ylab\": \"PC2\"}, \"topic.order\": [1, 2, 3]};\n",
       "\n",
       "function LDAvis_load_lib(url, callback){\n",
       "  var s = document.createElement('script');\n",
       "  s.src = url;\n",
       "  s.async = true;\n",
       "  s.onreadystatechange = s.onload = callback;\n",
       "  s.onerror = function(){console.warn(\"failed to load library \" + url);};\n",
       "  document.getElementsByTagName(\"head\")[0].appendChild(s);\n",
       "}\n",
       "\n",
       "if(typeof(LDAvis) !== \"undefined\"){\n",
       "   // already loaded: just create the visualization\n",
       "   !function(LDAvis){\n",
       "       new LDAvis(\"#\" + \"ldavis_el417301404830660374087369077681\", ldavis_el417301404830660374087369077681_data);\n",
       "   }(LDAvis);\n",
       "}else if(typeof define === \"function\" && define.amd){\n",
       "   // require.js is available: use it to load d3/LDAvis\n",
       "   require.config({paths: {d3: \"https://d3js.org/d3.v5\"}});\n",
       "   require([\"d3\"], function(d3){\n",
       "      window.d3 = d3;\n",
       "      LDAvis_load_lib(\"https://cdn.jsdelivr.net/gh/bmabey/pyLDAvis@3.3.1/pyLDAvis/js/ldavis.v3.0.0.js\", function(){\n",
       "        new LDAvis(\"#\" + \"ldavis_el417301404830660374087369077681\", ldavis_el417301404830660374087369077681_data);\n",
       "      });\n",
       "    });\n",
       "}else{\n",
       "    // require.js not available: dynamically load d3 & LDAvis\n",
       "    LDAvis_load_lib(\"https://d3js.org/d3.v5.js\", function(){\n",
       "         LDAvis_load_lib(\"https://cdn.jsdelivr.net/gh/bmabey/pyLDAvis@3.3.1/pyLDAvis/js/ldavis.v3.0.0.js\", function(){\n",
       "                 new LDAvis(\"#\" + \"ldavis_el417301404830660374087369077681\", ldavis_el417301404830660374087369077681_data);\n",
       "            })\n",
       "         });\n",
       "}\n",
       "</script>"
      ],
      "text/plain": [
       "PreparedData(topic_coordinates=              x         y  topics  cluster       Freq\n",
       "topic                                                \n",
       "0     -0.042873 -0.126898       1        1  40.757043\n",
       "1     -0.094389  0.098678       2        1  31.025917\n",
       "2      0.137262  0.028220       3        1  28.217040, topic_info=          Term       Freq      Total Category  logprob  loglift\n",
       "23        time  60.000000  60.000000  Default  30.0000  30.0000\n",
       "5      package  52.000000  52.000000  Default  29.0000  29.0000\n",
       "132    transit   9.000000   9.000000  Default  28.0000  28.0000\n",
       "39       stuff  10.000000  10.000000  Default  27.0000  27.0000\n",
       "8      service  47.000000  47.000000  Default  26.0000  26.0000\n",
       "..         ...        ...        ...      ...      ...      ...\n",
       "97   complaint   1.975006   5.818562   Topic3  -5.0164   0.1848\n",
       "45          jt   1.956588   4.165295   Topic3  -5.0258   0.5097\n",
       "106      check   1.955753   4.165238   Topic3  -5.0262   0.5092\n",
       "144     regret   1.952433   4.165296   Topic3  -5.0279   0.5075\n",
       "95      report   1.947649   4.165310   Topic3  -5.0304   0.5051\n",
       "\n",
       "[179 rows x 6 columns], token_table=      Topic      Freq            Term\n",
       "term                                 \n",
       "133       2  0.804931           aaaaa\n",
       "183       1  0.800073  accountability\n",
       "80        1  0.267670         address\n",
       "80        2  0.535341         address\n",
       "80        3  0.267670         address\n",
       "...     ...       ...             ...\n",
       "56        1  0.219173          xpress\n",
       "56        2  0.547931          xpress\n",
       "56        3  0.219173          xpress\n",
       "101       2  0.804931            year\n",
       "57        2  0.863309       yesterday\n",
       "\n",
       "[183 rows x 3 columns], R=30, lambda_step=0.01, plot_opts={'xlab': 'PC1', 'ylab': 'PC2'}, topic_order=[1, 2, 3])"
      ]
     },
     "execution_count": 41,
     "metadata": {},
     "output_type": "execute_result"
    }
   ],
   "source": [
    "# Visualize the topics\n",
    "pyLDAvis.enable_notebook()\n",
    "vis = pyLDAvis.gensim_models.prepare(lda_model, corpus, id2word)\n",
    "vis"
   ]
  },
  {
   "cell_type": "code",
   "execution_count": 42,
   "id": "3b5553b1",
   "metadata": {},
   "outputs": [
    {
     "data": {
      "text/html": [
       "<div>\n",
       "<style scoped>\n",
       "    .dataframe tbody tr th:only-of-type {\n",
       "        vertical-align: middle;\n",
       "    }\n",
       "\n",
       "    .dataframe tbody tr th {\n",
       "        vertical-align: top;\n",
       "    }\n",
       "\n",
       "    .dataframe thead th {\n",
       "        text-align: right;\n",
       "    }\n",
       "</style>\n",
       "<table border=\"1\" class=\"dataframe\">\n",
       "  <thead>\n",
       "    <tr style=\"text-align: right;\">\n",
       "      <th></th>\n",
       "      <th>dominant_topic</th>\n",
       "      <th>topic_perc_contrib</th>\n",
       "      <th>keywords</th>\n",
       "    </tr>\n",
       "  </thead>\n",
       "  <tbody>\n",
       "    <tr>\n",
       "      <th>0</th>\n",
       "      <td>2.0</td>\n",
       "      <td>0.9340</td>\n",
       "      <td>package, service, courier, stuff, day, week, l...</td>\n",
       "    </tr>\n",
       "    <tr>\n",
       "      <th>1</th>\n",
       "      <td>1.0</td>\n",
       "      <td>0.9333</td>\n",
       "      <td>time, service, courier, jakarta, delivery, day...</td>\n",
       "    </tr>\n",
       "    <tr>\n",
       "      <th>2</th>\n",
       "      <td>0.0</td>\n",
       "      <td>0.7719</td>\n",
       "      <td>time, delivery, expedition, package, use, serv...</td>\n",
       "    </tr>\n",
       "    <tr>\n",
       "      <th>3</th>\n",
       "      <td>0.0</td>\n",
       "      <td>0.9010</td>\n",
       "      <td>time, delivery, expedition, package, use, serv...</td>\n",
       "    </tr>\n",
       "    <tr>\n",
       "      <th>4</th>\n",
       "      <td>0.0</td>\n",
       "      <td>0.8288</td>\n",
       "      <td>time, delivery, expedition, package, use, serv...</td>\n",
       "    </tr>\n",
       "  </tbody>\n",
       "</table>\n",
       "</div>"
      ],
      "text/plain": [
       "   dominant_topic  topic_perc_contrib  \\\n",
       "0             2.0              0.9340   \n",
       "1             1.0              0.9333   \n",
       "2             0.0              0.7719   \n",
       "3             0.0              0.9010   \n",
       "4             0.0              0.8288   \n",
       "\n",
       "                                            keywords  \n",
       "0  package, service, courier, stuff, day, week, l...  \n",
       "1  time, service, courier, jakarta, delivery, day...  \n",
       "2  time, delivery, expedition, package, use, serv...  \n",
       "3  time, delivery, expedition, package, use, serv...  \n",
       "4  time, delivery, expedition, package, use, serv...  "
      ]
     },
     "execution_count": 42,
     "metadata": {},
     "output_type": "execute_result"
    }
   ],
   "source": [
    "def format_topics_sentences(ldamodel=lda_model, corpus=corpus):\n",
    "    # Init output\n",
    "    sent_topics_df = pd.DataFrame()\n",
    "\n",
    "    # Get main topic in each document\n",
    "    for i, row in enumerate(ldamodel[corpus]):\n",
    "        row = sorted(row, key=lambda x: (x[1]), reverse=True)\n",
    "        # Get the Dominant topic, Perc Contribution and Keywords for each document\n",
    "        for j, (topic_num, prop_topic) in enumerate(row):\n",
    "            if j == 0:  # => dominant topic\n",
    "                wp = ldamodel.show_topic(topic_num)\n",
    "                topic_keywords = \", \".join([word for word, prop in wp])\n",
    "                sent_topics_df = sent_topics_df.append(pd.Series([int(topic_num), round(prop_topic,4), topic_keywords]), ignore_index=True)\n",
    "            else:\n",
    "                break\n",
    "    sent_topics_df.columns = ['dominant_topic', 'topic_perc_contrib', 'keywords']\n",
    "    \n",
    "    return(sent_topics_df)\n",
    "\n",
    "df_topic_sents_keywords = format_topics_sentences(ldamodel=lda_model, corpus=corpus)\n",
    "df_topic_sents_keywords.head()\n",
    "\n"
   ]
  },
  {
   "cell_type": "code",
   "execution_count": null,
   "id": "b5137cb6",
   "metadata": {},
   "outputs": [],
   "source": []
  },
  {
   "cell_type": "code",
   "execution_count": null,
   "id": "6d84ce00",
   "metadata": {},
   "outputs": [],
   "source": []
  },
  {
   "cell_type": "code",
   "execution_count": 24,
   "id": "0fa142eb",
   "metadata": {},
   "outputs": [],
   "source": [
    "\n",
    "# data = df['Late reviews']\n",
    "# vectorizer = TfidfVectorizer()\n",
    "# tdf = vectorizer.fit_transform(data)\n",
    "\n"
   ]
  },
  {
   "cell_type": "code",
   "execution_count": 25,
   "id": "4ac6670e",
   "metadata": {},
   "outputs": [],
   "source": [
    "# import nltk\n",
    "# import re\n",
    "\n",
    "# stop_list = nltk.corpus.stopwords.words('english')\n",
    "# # The following list is to further remove some frequent words in SGNews.\n",
    "# # stop_list += ['would', 'said', 'say', 'year', 'day', 'also', 'first', 'last', 'one', 'two', 'people', 'told', 'new', 'could', 'singapore', 'three', 'may', 'like', 'world', 'since']\n",
    "\n",
    "# import gensim\n",
    "\n",
    "# def load_corpus(dir):\n",
    "#     # dir is a directory with plain text files to load.\n",
    "#     corpus = nltk.corpus.PlaintextCorpusReader(dir, '.+\\.txt')\n",
    "#     return corpus\n",
    "\n",
    "# def corpus2docs(corpus):\n",
    "#     # corpus is a object returned by load_corpus that represents a corpus.\n",
    "#     fids = corpus.fileids()\n",
    "#     docs1 = []\n",
    "#     for fid in fids:\n",
    "#         doc_raw = corpus.raw(fid)\n",
    "#         doc = nltk.word_tokenize(doc_raw)\n",
    "#         docs1.append(doc)\n",
    "#     docs2 = [[w.lower() for w in doc] for doc in docs1]\n",
    "#     docs3 = [[w for w in doc if re.search('^[a-z]+$', w)] for doc in docs2]\n",
    "#     docs4 = [[w for w in doc if w not in stop_list] for doc in docs3]\n",
    "#     return docs4\n",
    "\n",
    "# def docs2vecs(docs, dictionary):\n",
    "#     # docs is a list of documents returned by corpus2docs.\n",
    "#     # dictionary is a gensim.corpora.Dictionary object.\n",
    "#     vecs1 = [dictionary.doc2bow(doc) for doc in docs]\n",
    "#     return vecs1\n",
    "\n",
    "    "
   ]
  },
  {
   "cell_type": "code",
   "execution_count": null,
   "id": "a4c51a9a",
   "metadata": {},
   "outputs": [],
   "source": []
  },
  {
   "cell_type": "code",
   "execution_count": null,
   "id": "2505f876",
   "metadata": {},
   "outputs": [],
   "source": []
  },
  {
   "cell_type": "code",
   "execution_count": null,
   "id": "0cca93d1",
   "metadata": {},
   "outputs": [],
   "source": []
  }
 ],
 "metadata": {
  "kernelspec": {
   "display_name": "Python 3 (ipykernel)",
   "language": "python",
   "name": "python3"
  },
  "language_info": {
   "codemirror_mode": {
    "name": "ipython",
    "version": 3
   },
   "file_extension": ".py",
   "mimetype": "text/x-python",
   "name": "python",
   "nbconvert_exporter": "python",
   "pygments_lexer": "ipython3",
   "version": "3.8.12"
  }
 },
 "nbformat": 4,
 "nbformat_minor": 5
}
